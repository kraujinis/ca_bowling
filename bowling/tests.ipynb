{
 "cells": [
  {
   "cell_type": "code",
   "execution_count": null,
   "metadata": {},
   "outputs": [],
   "source": [
    "import random\n",
    "\n",
    "frame_score = []\n",
    "\n",
    "throw = random.randint(0, 10)\n",
    "\n",
    "if throw == 10:\n",
    "    print('STRIKE')\n",
    "    frame_score.append(throw)\n",
    "elif throw != 10:\n",
    "    frame_score.append(throw)\n",
    "    \n",
    "    print(f'Points for first throw: {x}')\n",
    "    if x < 10:\n",
    "        y = random.randint(0, 10 - x)\n",
    "        print(f'Points for second throw: {y}')\n",
    "    stride = x + y\n",
    "    if stride == 10:\n",
    "        print('STRIDE')\n",
    "\n",
    "    \n",
    "print(frame_score)\n",
    "\n"
   ]
  },
  {
   "cell_type": "code",
   "execution_count": null,
   "metadata": {},
   "outputs": [],
   "source": [
    "from getkey import getkey, keys\n",
    "\n",
    "key = getkey()\n",
    "if key == keys.UP:\n",
    "    print('keys UP')\n",
    "\n"
   ]
  },
  {
   "cell_type": "code",
   "execution_count": null,
   "metadata": {},
   "outputs": [],
   "source": [
    "import keyboard\n",
    "\n",
    "while True:\n",
    "    keyboard.wait('space')\n",
    "    print('space was pressed! Waiting on it again...')\n",
    "    break"
   ]
  },
  {
   "cell_type": "code",
   "execution_count": 5,
   "metadata": {},
   "outputs": [
    {
     "name": "stdout",
     "output_type": "stream",
     "text": [
      "/home/giedrius/.virtualenvs/ca_bowling-1tQtcWNP/bin/python\n"
     ]
    }
   ],
   "source": [
    "import sys\n",
    "print(sys.executable)"
   ]
  },
  {
   "cell_type": "code",
   "execution_count": null,
   "metadata": {},
   "outputs": [],
   "source": [
    "dictionary = {1: [2, 7], 2: [10], 3: [9, 1], 4: [10], 5: [2, 6], 6: [10], 7: [10], 8: [2, 5], 9: [6, 4], 10: [3, 4]}\n",
    "#            {1: 9, 2: 8, 3: 20, 4: 20, 5: 19, 6: 9, 7: 5, 8: 11, 9: 2, 10: 20}\n",
    "\n",
    "frame_score = {}\n",
    "\n",
    "for x, y in dictionary.items():\n",
    "    \n",
    "    if len(y) == 2: # SPARE\n",
    "        if sum(y) == 10:\n",
    "            spare_value = []\n",
    "            for i in y:\n",
    "                spare_value.append(i)\n",
    "            a = dictionary.get(x + 1)\n",
    "\n",
    "            spare_value.append(a[0])\n",
    "            frame_score[x] = sum(spare_value)\n",
    "            \n",
    "        else:\n",
    "            frame_score[x] = sum(y)\n",
    "            \n",
    "    elif len(y) == 3:\n",
    "        frame_score[x] = sum(y)\n",
    "        \n",
    "    elif len(y) == 1: # STRIKE\n",
    "        strike_value =[]\n",
    "        \n",
    "        for i in range(3):\n",
    "            a = dictionary.get(x + i)\n",
    "            for s in a:\n",
    "                strike_value.append(s)\n",
    "                \n",
    "        print(x, strike_value)\n",
    "        frame_score[x] = sum(strike_value[:3])\n",
    "      \n",
    "print(frame_score)\n",
    "   \n",
    "    "
   ]
  },
  {
   "cell_type": "code",
   "execution_count": null,
   "metadata": {},
   "outputs": [],
   "source": [
    "dictionary = {1: [2, 7], 2: [10], 3: [9, 1], 4: [10], 5: [2, 6], 6: [10], 7: [10], 8: [2, 5], 9: [6, 4], 10: [3, 4]}\n",
    "class Result:\n",
    "\n",
    "    def __init__(self, **kwargs) -> None: # TODO: reikia sutvarkyti čia kažkaip paduoti į funkciją\n",
    "        self.kwargs = kwargs\n",
    "        \n",
    "        frame_score = {}\n",
    "    \n",
    "        for x, y in kwargs.items():\n",
    "            \n",
    "            if len(y) == 2: # SPARE\n",
    "                if sum(y) == 10:\n",
    "                    spare_value = []\n",
    "                    for i in y:\n",
    "                        spare_value.append(i)\n",
    "                    a = kwargs.get(x + 1)\n",
    "\n",
    "                    spare_value.append(a[0])\n",
    "                    frame_score[x] = sum(spare_value)\n",
    "                    \n",
    "                else:\n",
    "                    frame_score[x] = sum(y)\n",
    "                    \n",
    "            elif len(y) == 3:\n",
    "                frame_score[x] = sum(y)\n",
    "                \n",
    "            elif len(y) == 1: # STRIKE\n",
    "                strike_value =[]\n",
    "                \n",
    "                for i in range(3):\n",
    "                    a = kwargs.get(x + i)\n",
    "                    for s in a:\n",
    "                        strike_value.append(s)\n",
    "                        \n",
    "                print(x, strike_value)\n",
    "                frame_score[x] = sum(strike_value[:3])\n",
    "        \n",
    "        print(frame_score)\n",
    "\n",
    "\n",
    "#print(number_of_throws())\n",
    "\n",
    "Result(dictionary)"
   ]
  },
  {
   "cell_type": "code",
   "execution_count": 8,
   "metadata": {},
   "outputs": [
    {
     "ename": "TypeError",
     "evalue": "keywords must be strings",
     "output_type": "error",
     "traceback": [
      "\u001b[0;31m---------------------------------------------------------------------------\u001b[0m",
      "\u001b[0;31mTypeError\u001b[0m                                 Traceback (most recent call last)",
      "Cell \u001b[0;32mIn[8], line 6\u001b[0m\n\u001b[1;32m      3\u001b[0m \u001b[39mdef\u001b[39;00m \u001b[39mresult\u001b[39m(\u001b[39m*\u001b[39m\u001b[39m*\u001b[39mkwargs):\n\u001b[1;32m      4\u001b[0m     \u001b[39mreturn\u001b[39;00m \u001b[39mprint\u001b[39m(kwargs)\n\u001b[0;32m----> 6\u001b[0m result(\u001b[39m*\u001b[39;49m\u001b[39m*\u001b[39;49mdictionary)\n",
      "\u001b[0;31mTypeError\u001b[0m: keywords must be strings"
     ]
    }
   ],
   "source": [
    "dictionary = {1: [2, 7], 2: [10], 3: [9, 1], 4: [10], 5: [2, 6], 6: [10], 7: [10], 8: [2, 5], 9: [6, 4], 10: [3, 4]}\n",
    "\n",
    "def result(**kwargs):\n",
    "    return print(kwargs)\n",
    "    \n",
    "result(**dictionary)"
   ]
  },
  {
   "cell_type": "code",
   "execution_count": 6,
   "metadata": {},
   "outputs": [
    {
     "name": "stdout",
     "output_type": "stream",
     "text": [
      "red\n",
      "250\n"
     ]
    }
   ],
   "source": [
    "class car(): #defining car class\n",
    "    def __init__(self,**kwargs): #args receives unlimited no. of arguments as an array\n",
    "        self.speed = kwargs['s'] #access args index like array does\n",
    "        self.color = kwargs['c']\n",
    "                  \n",
    "#creating objects of car class\n",
    "          \n",
    "audi=car(s=200,c='red') \n",
    "bmw=car(s=250,c='black')\n",
    "mb=car(s=190,c='white')\n",
    "     \n",
    "print(audi.color)\n",
    "print(bmw.speed)"
   ]
  }
 ],
 "metadata": {
  "kernelspec": {
   "display_name": "CA",
   "language": "python",
   "name": "python3"
  },
  "language_info": {
   "codemirror_mode": {
    "name": "ipython",
    "version": 3
   },
   "file_extension": ".py",
   "mimetype": "text/x-python",
   "name": "python",
   "nbconvert_exporter": "python",
   "pygments_lexer": "ipython3",
   "version": "3.10.6"
  },
  "orig_nbformat": 4
 },
 "nbformat": 4,
 "nbformat_minor": 2
}
