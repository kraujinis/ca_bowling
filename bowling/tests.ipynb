{
 "cells": [
  {
   "cell_type": "code",
   "execution_count": 11,
   "metadata": {},
   "outputs": [
    {
     "ename": "NameError",
     "evalue": "name 'x' is not defined",
     "output_type": "error",
     "traceback": [
      "\u001b[0;31m---------------------------------------------------------------------------\u001b[0m",
      "\u001b[0;31mNameError\u001b[0m                                 Traceback (most recent call last)",
      "Cell \u001b[0;32mIn[11], line 13\u001b[0m\n\u001b[1;32m     10\u001b[0m \u001b[39melif\u001b[39;00m throw \u001b[39m!=\u001b[39m \u001b[39m10\u001b[39m:\n\u001b[1;32m     11\u001b[0m     frame_score\u001b[39m.\u001b[39mappend(throw)\n\u001b[0;32m---> 13\u001b[0m     \u001b[39mprint\u001b[39m(\u001b[39mf\u001b[39m\u001b[39m'\u001b[39m\u001b[39mPoints for first throw: \u001b[39m\u001b[39m{\u001b[39;00mx\u001b[39m}\u001b[39;00m\u001b[39m'\u001b[39m)\n\u001b[1;32m     14\u001b[0m     \u001b[39mif\u001b[39;00m x \u001b[39m<\u001b[39m \u001b[39m10\u001b[39m:\n\u001b[1;32m     15\u001b[0m         y \u001b[39m=\u001b[39m random\u001b[39m.\u001b[39mrandint(\u001b[39m0\u001b[39m, \u001b[39m10\u001b[39m \u001b[39m-\u001b[39m x)\n",
      "\u001b[0;31mNameError\u001b[0m: name 'x' is not defined"
     ]
    }
   ],
   "source": [
    "import random\n",
    "\n",
    "frame_score = []\n",
    "\n",
    "throw = random.randint(0, 10)\n",
    "\n",
    "if throw == 10:\n",
    "    print('STRIKE')\n",
    "    frame_score.append(throw)\n",
    "elif throw != 10:\n",
    "    frame_score.append(throw)\n",
    "    \n",
    "    print(f'Points for first throw: {x}')\n",
    "    if x < 10:\n",
    "        y = random.randint(0, 10 - x)\n",
    "        print(f'Points for second throw: {y}')\n",
    "    stride = x + y\n",
    "    if stride == 10:\n",
    "        print('STRIDE')\n",
    "\n",
    "    \n",
    "print(frame_score)\n",
    "\n"
   ]
  },
  {
   "cell_type": "code",
   "execution_count": null,
   "metadata": {},
   "outputs": [],
   "source": [
    "from getkey import getkey, keys\n",
    "\n",
    "key = getkey()\n",
    "if key == keys.UP:\n",
    "    print('keys UP')\n",
    "\n"
   ]
  }
 ],
 "metadata": {
  "kernelspec": {
   "display_name": "CA",
   "language": "python",
   "name": "python3"
  },
  "language_info": {
   "codemirror_mode": {
    "name": "ipython",
    "version": 3
   },
   "file_extension": ".py",
   "mimetype": "text/x-python",
   "name": "python",
   "nbconvert_exporter": "python",
   "pygments_lexer": "ipython3",
   "version": "3.10.6"
  },
  "orig_nbformat": 4
 },
 "nbformat": 4,
 "nbformat_minor": 2
}
