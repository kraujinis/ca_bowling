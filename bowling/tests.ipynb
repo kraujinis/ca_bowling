{
 "cells": [
  {
   "cell_type": "code",
   "execution_count": 63,
   "metadata": {},
   "outputs": [
    {
     "name": "stdout",
     "output_type": "stream",
     "text": [
      "Points for first throw: 8\n",
      "Points for second throw: 2\n",
      "STRIDE\n"
     ]
    }
   ],
   "source": [
    "from random import random, randrange\n",
    "\n",
    "throw = randrange(1, 11, 1)\n",
    "\n",
    "if throw == 10:\n",
    "    print('STRIKE')\n",
    "elif throw != 10:\n",
    "    x = randrange(1, 11- throw, 1)\n",
    "    print(f'Points for first throw: {x}')\n",
    "    if x < 10:\n",
    "        y = randrange(1, 11 - x, 1)\n",
    "        print(f'Points for second throw: {y}')\n",
    "    stride = x + y\n",
    "    if stride == 10:\n",
    "        print('STRIDE')\n",
    "\n",
    "    \n",
    "\n",
    "\n"
   ]
  }
 ],
 "metadata": {
  "kernelspec": {
   "display_name": "CA",
   "language": "python",
   "name": "python3"
  },
  "language_info": {
   "codemirror_mode": {
    "name": "ipython",
    "version": 3
   },
   "file_extension": ".py",
   "mimetype": "text/x-python",
   "name": "python",
   "nbconvert_exporter": "python",
   "pygments_lexer": "ipython3",
   "version": "3.10.6"
  },
  "orig_nbformat": 4
 },
 "nbformat": 4,
 "nbformat_minor": 2
}
