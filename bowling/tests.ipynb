{
 "cells": [
  {
   "cell_type": "code",
   "execution_count": null,
   "metadata": {},
   "outputs": [],
   "source": [
    "import random\n",
    "\n",
    "frame_score = []\n",
    "\n",
    "throw = random.randint(0, 10)\n",
    "\n",
    "if throw == 10:\n",
    "    print('STRIKE')\n",
    "    frame_score.append(throw)\n",
    "elif throw != 10:\n",
    "    frame_score.append(throw)\n",
    "    \n",
    "    print(f'Points for first throw: {x}')\n",
    "    if x < 10:\n",
    "        y = random.randint(0, 10 - x)\n",
    "        print(f'Points for second throw: {y}')\n",
    "    stride = x + y\n",
    "    if stride == 10:\n",
    "        print('STRIDE')\n",
    "\n",
    "    \n",
    "print(frame_score)\n",
    "\n"
   ]
  },
  {
   "cell_type": "code",
   "execution_count": null,
   "metadata": {},
   "outputs": [],
   "source": [
    "from getkey import getkey, keys\n",
    "\n",
    "key = getkey()\n",
    "if key == keys.UP:\n",
    "    print('keys UP')\n",
    "\n"
   ]
  },
  {
   "cell_type": "code",
   "execution_count": null,
   "metadata": {},
   "outputs": [],
   "source": [
    "import keyboard\n",
    "\n",
    "while True:\n",
    "    keyboard.wait('space')\n",
    "    print('space was pressed! Waiting on it again...')\n",
    "    break"
   ]
  },
  {
   "cell_type": "code",
   "execution_count": null,
   "metadata": {},
   "outputs": [],
   "source": [
    "import sys\n",
    "print(sys.executable)"
   ]
  },
  {
   "cell_type": "code",
   "execution_count": null,
   "metadata": {},
   "outputs": [],
   "source": [
    "dictionary = {1: [2, 7], 2: [10], 3: [9, 1], 4: [10], 5: [2, 6], 6: [10], 7: [10], 8: [2, 5], 9: [10], 10: [3, 4]}\n",
    "#            {1: 9, 2: 8, 3: 20, 4: 20, 5: 19, 6: 9, 7: 5, 8: 11, 9: 2, 10: 20}\n",
    "\n",
    "frame_score = {}\n",
    "\n",
    "for x, y in dictionary.items():\n",
    "    \n",
    "    if len(y) == 2: # SPARE\n",
    "        if sum(y) == 10:\n",
    "            spare_value = []\n",
    "            for i in y:\n",
    "                spare_value.append(i)\n",
    "            a = dictionary.get(x + 1)\n",
    "\n",
    "            spare_value.append(a[0])\n",
    "            frame_score[x] = sum(spare_value)\n",
    "            \n",
    "        else:\n",
    "            frame_score[x] = sum(y)\n",
    "            \n",
    "    elif len(y) == 3:\n",
    "        frame_score[x] = sum(y)\n",
    "        \n",
    "    elif len(y) == 1: # STRIKE\n",
    "        strike_value =[]\n",
    "        \n",
    "        for i in range(3):\n",
    "            a = dictionary.get(x + i)\n",
    "            for s in a:\n",
    "                strike_value.append(s)\n",
    "                \n",
    "        print(x, strike_value)\n",
    "        frame_score[x] = sum(strike_value[:3])\n",
    "      \n",
    "print(frame_score)\n",
    "   \n",
    "    "
   ]
  },
  {
   "cell_type": "code",
   "execution_count": 18,
   "metadata": {},
   "outputs": [
    {
     "name": "stdout",
     "output_type": "stream",
     "text": [
      "{'1': 9, '2': 30, '3': 22, '4': 18, '5': 8, '6': 22, '7': 17, '8': 7, '9': 17, '10': 7}\n"
     ]
    },
    {
     "data": {
      "text/plain": [
       "<__main__.Result at 0x7f7086ce1900>"
      ]
     },
     "execution_count": 18,
     "metadata": {},
     "output_type": "execute_result"
    }
   ],
   "source": [
    "dictionary = {'1': [2, 7], '2': [10], '3': [10], '4': [10], '5': [2, 6], '6': [10], '7': [10], '8': [2, 5], '9': [10], '10': [3, 4]}\n",
    "# dictionary = {'1': [2, 7], '2': [10], '3': [9, 1], '4': [10], '5': [2, 6], '6': [10], '7': [10], '8': [2, 5], '9': [10], '10': [3, 4]}\n",
    "class Result:\n",
    "\n",
    "    def __init__(self, **kwargs: dict) -> None: # TODO: reikia sutvarkyti čia kažkaip paduoti į funkciją\n",
    "        self.kwargs = kwargs\n",
    "        \n",
    "        frame_score = {}\n",
    "    \n",
    "        for key, value in kwargs.items():\n",
    "            # print('len(x) :', len(value))\n",
    "            # print('key: ', key)\n",
    "            if len(value) == 2: # SPARE\n",
    "                if sum(value) == 10:\n",
    "                    spare_value = []\n",
    "                    for i in value:\n",
    "                        spare_value.append(i)\n",
    "                    int_key = int(key)\n",
    "                    a = kwargs.get(str(int_key + 1))\n",
    "                    spare_value.append(a[0])\n",
    "                    print('spare_value: ', spare_value)\n",
    "                    frame_score[key] = sum(spare_value)\n",
    "                    \n",
    "                else:\n",
    "                    frame_score[key] = sum(value)\n",
    "                \n",
    "            elif len(value) == 3:\n",
    "                frame_score[key] = sum(value)\n",
    "            \n",
    "            strike_value = []\n",
    "            \n",
    "            if value[0] == 10:\n",
    "                for i in range(0, 3):\n",
    "                    if len(strike_value) == 3:\n",
    "                        break\n",
    "                    int_x = int(key) + i\n",
    "                    a = kwargs.get(str(int_x))\n",
    "                    \n",
    "                    if a[0] == 10:\n",
    "                        strike_value.append(a[0])\n",
    "                    else:\n",
    "                        h = kwargs.get(str(int_x))\n",
    "                        for r in h:\n",
    "                            if len(strike_value) == 3:\n",
    "                                break\n",
    "                            strike_value.append(r)\n",
    "                            \n",
    "                \n",
    "                frame_score[key] = sum(strike_value)\n",
    "    \n",
    "        print(frame_score)\n",
    "\n",
    "\n",
    "#print(number_of_throws())\n",
    "\n",
    "Result(**dictionary)"
   ]
  },
  {
   "cell_type": "code",
   "execution_count": null,
   "metadata": {},
   "outputs": [],
   "source": [
    "dictionary = {'1': [2, 7], '2': [10], '3': [1,5], '4': [5, 4], '5': [2, 6], '6': [1, 8], '7': [1, 1], '8': [2, 5], '9': [10], '10': [3, 4, 5]}\n",
    "\n",
    "def results(**kwargs: dict):\n",
    "    for x, y in kwargs.items():\n",
    "        \n",
    "        strike_value = []\n",
    "        \n",
    "        if y[0] == 10:\n",
    "            \n",
    "            for i in range(0, 3):\n",
    "                if len(strike_value) == 3:\n",
    "                    break\n",
    "                int_x = int(x) + i\n",
    "                a = kwargs.get(str(int_x))\n",
    "\n",
    "                \n",
    "                if a[0] == 10:\n",
    "                    strike_value.append(a[0])\n",
    "                else:\n",
    "                    h = kwargs.get(str(int_x))\n",
    "                    for r in h:\n",
    "                        if len(strike_value) == 3:\n",
    "                            break\n",
    "                        strike_value.append(r)\n",
    "                        \n",
    "                \n",
    "                \n",
    "                    \n",
    "                \n",
    "            #g = [item for sublist in strike_value for item in sublist]\n",
    "        print('strike_value len: ', len(strike_value))    \n",
    "        print('strike_value', strike_value)\n",
    "        \n",
    "            # print(g)\n",
    "\n",
    "results(**dictionary)   "
   ]
  },
  {
   "cell_type": "code",
   "execution_count": 77,
   "metadata": {},
   "outputs": [
    {
     "name": "stdout",
     "output_type": "stream",
     "text": [
      "{'1': 20, '3': 20, '9': 13}\n"
     ]
    }
   ],
   "source": [
    "dictionary = {'1': [3, 7], '2': [10], '3': [4, 6], '4': [10], '5': [2, 6], '6': [10], '7': [10], '8': [2, 5], '9': [2, 8], '10': [3, 4, 5]}\n",
    "frame_score = {}\n",
    "for key, value in dictionary.items():\n",
    "\n",
    "        if len(value) == 2:  # SPARE\n",
    "                if sum(value) == 10:\n",
    "                        spare_value = []\n",
    "                        for i in value:\n",
    "                                spare_value.append(i)\n",
    "                        int_key = int(key) + 1\n",
    "                        a = dictionary.get(str(int_key))\n",
    "                        \n",
    "                        spare_value.append(a[0])\n",
    "                        frame_score[key] = sum(spare_value)\n",
    "print(frame_score)"
   ]
  },
  {
   "cell_type": "code",
   "execution_count": null,
   "metadata": {},
   "outputs": [],
   "source": [
    "from calculation import throws, one_throw\n",
    "\n",
    "def number_of_throws() -> dict:  # Užėjimai ir metimai, metimo vertės užrašymas\n",
    "    i = 0\n",
    "    result = {}\n",
    "    while i < 3:\n",
    "        print(f\"> {i + 1} < BANDYMAS\")\n",
    "        i += 1\n",
    "        #value_of_throw = throws()\n",
    "        result[str(i)] = throws()\n",
    "\n",
    "        if i == '10':\n",
    "            if result[i][0] == 10:  # STRIKE\n",
    "                last_throw = []\n",
    "                last_throw.append(result[i][0])\n",
    "\n",
    "                for x in range(2):\n",
    "                    x += 2\n",
    "                    a = one_throw()\n",
    "                    print(f'{x}-as metimas. Gauti taškai: {a}')\n",
    "                    last_throw.append(a)\n",
    "\n",
    "                result[str(i)] = last_throw\n",
    "                break\n",
    "\n",
    "            elif sum(result[str(i)]) == 10:  #SPARE\n",
    "                print(result[str(i)])\n",
    "                #a = value_of_throw\n",
    "                b = one_throw()\n",
    "                print(f'3-as metimas. Gauti taškai: {b}')\n",
    "                #a.append(b)\n",
    "                result[str(i)] = b\n",
    "                break\n",
    "    print(result)\n",
    "    return result\n",
    "\n",
    "number_of_throws()"
   ]
  },
  {
   "cell_type": "code",
   "execution_count": 84,
   "metadata": {},
   "outputs": [
    {
     "name": "stdout",
     "output_type": "stream",
     "text": [
      "2\n",
      "3\n"
     ]
    }
   ],
   "source": [
    "for x in range(2,4):\n",
    "    print(x)"
   ]
  },
  {
   "cell_type": "code",
   "execution_count": 93,
   "metadata": {},
   "outputs": [
    {
     "name": "stdout",
     "output_type": "stream",
     "text": [
      "{'1': [3, 7], '2': [10], '3': [4, 6], '4': [10], '5': [2, 6], '6': [10], '7': [10], '8': [2, 5], '9': [2, 8], '10': [10, 4, 5]}\n",
      "{'1': 20, '2': 20, '3': 20, '4': 18, '5': 8, '6': 22, '7': 17, '8': 7, '9': 20, '10': 19}\n"
     ]
    }
   ],
   "source": [
    "\n",
    "\n",
    "nmb_of_thrw = {'1': [3, 7], '2': [10], '3': [4, 6], '4': [10], '5': [2, 6], '6': [10], '7': [10], '8': [2, 5], '9': [2, 8], '10': [10, 4, 5]}\n",
    "\n",
    "frame_score = {}\n",
    "\n",
    "for key, value in nmb_of_thrw.items():\n",
    "\n",
    "    if len(value) == 2:  # SPARE\n",
    "        if sum(value) == 10:\n",
    "            spare_value = []\n",
    "            for i in value:\n",
    "                \n",
    "                spare_value.append(i)\n",
    "            int_key = int(key) + 1\n",
    "            a = nmb_of_thrw.get(str(int_key))\n",
    "            \n",
    "            spare_value.append(a[0])\n",
    "            frame_score[key] = sum(spare_value)\n",
    "\n",
    "        else:\n",
    "            frame_score[key] = sum(value)\n",
    "\n",
    "    elif len(value) == 3:\n",
    "        frame_score[key] = sum(value)\n",
    "\n",
    "    strike_value = []\n",
    "\n",
    "    if value[0] == 10:  # STRIKE\n",
    "        for i in range(0, 3):\n",
    "            if len(strike_value) == 3:\n",
    "                break\n",
    "            int_x = int(key) + i\n",
    "            a = nmb_of_thrw.get(str(int_x))\n",
    "            \n",
    "            if a == 10:\n",
    "                strike_value.append(a[0])\n",
    "            else:\n",
    "                h = nmb_of_thrw.get(str(int_x))\n",
    "                for r in h:\n",
    "                    if len(strike_value) == 3:\n",
    "                        break\n",
    "                    strike_value.append(r)\n",
    "                    \n",
    "        frame_score[key] = sum(strike_value)\n",
    "print(nmb_of_thrw)\n",
    "print(frame_score)\n"
   ]
  }
 ],
 "metadata": {
  "kernelspec": {
   "display_name": "CA",
   "language": "python",
   "name": "python3"
  },
  "language_info": {
   "codemirror_mode": {
    "name": "ipython",
    "version": 3
   },
   "file_extension": ".py",
   "mimetype": "text/x-python",
   "name": "python",
   "nbconvert_exporter": "python",
   "pygments_lexer": "ipython3",
   "version": "3.10.6"
  },
  "orig_nbformat": 4
 },
 "nbformat": 4,
 "nbformat_minor": 2
}
