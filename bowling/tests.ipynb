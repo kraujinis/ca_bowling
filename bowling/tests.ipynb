{
 "cells": [
  {
   "cell_type": "code",
   "execution_count": null,
   "metadata": {},
   "outputs": [],
   "source": [
    "import random\n",
    "\n",
    "frame_score = []\n",
    "\n",
    "throw = random.randint(0, 10)\n",
    "\n",
    "if throw == 10:\n",
    "    print('STRIKE')\n",
    "    frame_score.append(throw)\n",
    "elif throw != 10:\n",
    "    frame_score.append(throw)\n",
    "    \n",
    "    print(f'Points for first throw: {x}')\n",
    "    if x < 10:\n",
    "        y = random.randint(0, 10 - x)\n",
    "        print(f'Points for second throw: {y}')\n",
    "    stride = x + y\n",
    "    if stride == 10:\n",
    "        print('STRIDE')\n",
    "\n",
    "    \n",
    "print(frame_score)\n",
    "\n"
   ]
  },
  {
   "cell_type": "code",
   "execution_count": null,
   "metadata": {},
   "outputs": [],
   "source": [
    "from getkey import getkey, keys\n",
    "\n",
    "key = getkey()\n",
    "if key == keys.UP:\n",
    "    print('keys UP')\n",
    "\n"
   ]
  },
  {
   "cell_type": "code",
   "execution_count": null,
   "metadata": {},
   "outputs": [],
   "source": [
    "import keyboard\n",
    "\n",
    "while True:\n",
    "    keyboard.wait('space')\n",
    "    print('space was pressed! Waiting on it again...')\n",
    "    break"
   ]
  },
  {
   "cell_type": "code",
   "execution_count": 5,
   "metadata": {},
   "outputs": [
    {
     "name": "stdout",
     "output_type": "stream",
     "text": [
      "/home/giedrius/.virtualenvs/ca_bowling-1tQtcWNP/bin/python\n"
     ]
    }
   ],
   "source": [
    "import sys\n",
    "print(sys.executable)"
   ]
  },
  {
   "cell_type": "code",
   "execution_count": 3,
   "metadata": {},
   "outputs": [
    {
     "ename": "ModuleNotFoundError",
     "evalue": "No module named 'keyboard'",
     "output_type": "error",
     "traceback": [
      "\u001b[0;31m---------------------------------------------------------------------------\u001b[0m",
      "\u001b[0;31mModuleNotFoundError\u001b[0m                       Traceback (most recent call last)",
      "Cell \u001b[0;32mIn[3], line 1\u001b[0m\n\u001b[0;32m----> 1\u001b[0m \u001b[39mfrom\u001b[39;00m \u001b[39mcalculation\u001b[39;00m \u001b[39mimport\u001b[39;00m throw\n\u001b[1;32m      2\u001b[0m result \u001b[39m=\u001b[39m {}\n\u001b[1;32m      3\u001b[0m value_of_throw \u001b[39m=\u001b[39m [\u001b[39m1\u001b[39m, \u001b[39m9\u001b[39m]\n",
      "File \u001b[0;32m~/Documents/ca_bowling/bowling/calculation.py:2\u001b[0m\n\u001b[1;32m      1\u001b[0m \u001b[39mimport\u001b[39;00m \u001b[39mrandom\u001b[39;00m\n\u001b[0;32m----> 2\u001b[0m \u001b[39mimport\u001b[39;00m \u001b[39mkeyboard\u001b[39;00m\n\u001b[1;32m      3\u001b[0m \u001b[39mimport\u001b[39;00m \u001b[39mlogging\u001b[39;00m\n\u001b[1;32m      5\u001b[0m logging\u001b[39m.\u001b[39mbasicConfig(level\u001b[39m=\u001b[39mlogging\u001b[39m.\u001b[39mDEBUG, filename\u001b[39m=\u001b[39m\u001b[39m'\u001b[39m\u001b[39mdata.log\u001b[39m\u001b[39m'\u001b[39m, filemode\u001b[39m=\u001b[39m\u001b[39m'\u001b[39m\u001b[39ma\u001b[39m\u001b[39m'\u001b[39m,\n\u001b[1;32m      6\u001b[0m                     \u001b[39mformat\u001b[39m\u001b[39m=\u001b[39m\u001b[39m'\u001b[39m\u001b[39m%(asctime)s\u001b[39;00m\u001b[39m - \u001b[39m\u001b[39m%(name)s\u001b[39;00m\u001b[39m - \u001b[39m\u001b[39m%(levelname)s\u001b[39;00m\u001b[39m - \u001b[39m\u001b[39m%(message)s\u001b[39;00m\u001b[39m'\u001b[39m,\n\u001b[1;32m      7\u001b[0m                     datefmt\u001b[39m=\u001b[39m\u001b[39m'\u001b[39m\u001b[39m%d\u001b[39;00m\u001b[39m/\u001b[39m\u001b[39m%\u001b[39m\u001b[39mm/\u001b[39m\u001b[39m%\u001b[39m\u001b[39mY \u001b[39m\u001b[39m%\u001b[39m\u001b[39mH:\u001b[39m\u001b[39m%\u001b[39m\u001b[39mM:\u001b[39m\u001b[39m%\u001b[39m\u001b[39mS\u001b[39m\u001b[39m'\u001b[39m)\n",
      "\u001b[0;31mModuleNotFoundError\u001b[0m: No module named 'keyboard'"
     ]
    }
   ],
   "source": [
    "from calculation import throw\n",
    "result = {}\n",
    "value_of_throw = [1, 9]\n",
    "if sum(value_of_throw) == 10:\n",
    "    print('SPARE value_of_throw', value_of_throw)\n",
    "    a = throw()\n",
    "    b = value_of_throw\n",
    "    print(f'a: {a}  b: {b} c: {c}')\n",
    "    result[1] = b[:3]\n",
    "    break"
   ]
  }
 ],
 "metadata": {
  "kernelspec": {
   "display_name": "CA",
   "language": "python",
   "name": "python3"
  },
  "language_info": {
   "codemirror_mode": {
    "name": "ipython",
    "version": 3
   },
   "file_extension": ".py",
   "mimetype": "text/x-python",
   "name": "python",
   "nbconvert_exporter": "python",
   "pygments_lexer": "ipython3",
   "version": "3.10.6"
  },
  "orig_nbformat": 4
 },
 "nbformat": 4,
 "nbformat_minor": 2
}
