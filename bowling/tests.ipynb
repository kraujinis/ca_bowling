{
 "cells": [
  {
   "cell_type": "code",
   "execution_count": null,
   "metadata": {},
   "outputs": [],
   "source": [
    "import random\n",
    "\n",
    "frame_score = []\n",
    "\n",
    "throw = random.randint(0, 10)\n",
    "\n",
    "if throw == 10:\n",
    "    print('STRIKE')\n",
    "    frame_score.append(throw)\n",
    "elif throw != 10:\n",
    "    frame_score.append(throw)\n",
    "    \n",
    "    print(f'Points for first throw: {x}')\n",
    "    if x < 10:\n",
    "        y = random.randint(0, 10 - x)\n",
    "        print(f'Points for second throw: {y}')\n",
    "    stride = x + y\n",
    "    if stride == 10:\n",
    "        print('STRIDE')\n",
    "\n",
    "    \n",
    "print(frame_score)\n",
    "\n"
   ]
  },
  {
   "cell_type": "code",
   "execution_count": null,
   "metadata": {},
   "outputs": [],
   "source": [
    "from getkey import getkey, keys\n",
    "\n",
    "key = getkey()\n",
    "if key == keys.UP:\n",
    "    print('keys UP')\n",
    "\n"
   ]
  },
  {
   "cell_type": "code",
   "execution_count": null,
   "metadata": {},
   "outputs": [],
   "source": [
    "import keyboard\n",
    "\n",
    "while True:\n",
    "    keyboard.wait('space')\n",
    "    print('space was pressed! Waiting on it again...')\n",
    "    break"
   ]
  },
  {
   "cell_type": "code",
   "execution_count": 5,
   "metadata": {},
   "outputs": [
    {
     "name": "stdout",
     "output_type": "stream",
     "text": [
      "/home/giedrius/.virtualenvs/ca_bowling-1tQtcWNP/bin/python\n"
     ]
    }
   ],
   "source": [
    "import sys\n",
    "print(sys.executable)"
   ]
  },
  {
   "cell_type": "code",
   "execution_count": 148,
   "metadata": {},
   "outputs": [
    {
     "name": "stdout",
     "output_type": "stream",
     "text": [
      "2 [10, 9, 1, 10]\n",
      "4 [10, 2, 6, 10]\n",
      "6 [10, 10, 2, 5]\n",
      "7 [10, 2, 5, 6, 4]\n",
      "{1: 9, 2: 20, 3: 20, 4: 18, 5: 8, 6: 22, 7: 17, 8: 7, 9: 13, 10: 7}\n"
     ]
    }
   ],
   "source": [
    "dictionary = {1: [2, 7], 2: [10], 3: [9, 1], 4: [10], 5: [2, 6], 6: [10], 7: [10], 8: [2, 5], 9: [6, 4], 10: [3, 4]}\n",
    "#            {1: 9, 2: 8, 3: 20, 4: 20, 5: 19, 6: 9, 7: 5, 8: 11, 9: 2, 10: 20}\n",
    "\n",
    "frame_score = {}\n",
    "\n",
    "for x, y in dictionary.items():\n",
    "    \n",
    "    if len(y) == 2: # SPARE\n",
    "        if sum(y) == 10:\n",
    "            spare_value = []\n",
    "            for i in y:\n",
    "                spare_value.append(i)\n",
    "            a = dictionary.get(x + 1)\n",
    "\n",
    "            spare_value.append(a[0])\n",
    "            frame_score[x] = sum(spare_value)\n",
    "            \n",
    "        else:\n",
    "            frame_score[x] = sum(y)\n",
    "            \n",
    "    elif len(y) == 3:\n",
    "        frame_score[x] = sum(y)\n",
    "        \n",
    "    elif len(y) == 1: # STRIKE\n",
    "        strike_value =[]\n",
    "        \n",
    "        for i in range(3):\n",
    "            a = dictionary.get(x + i)\n",
    "            for s in a:\n",
    "                strike_value.append(s)\n",
    "                \n",
    "        print(x, strike_value)\n",
    "        frame_score[x] = sum(strike_value[:3])\n",
    "      \n",
    "print(frame_score)\n",
    "   \n",
    "    "
   ]
  }
 ],
 "metadata": {
  "kernelspec": {
   "display_name": "CA",
   "language": "python",
   "name": "python3"
  },
  "language_info": {
   "codemirror_mode": {
    "name": "ipython",
    "version": 3
   },
   "file_extension": ".py",
   "mimetype": "text/x-python",
   "name": "python",
   "nbconvert_exporter": "python",
   "pygments_lexer": "ipython3",
   "version": "3.10.6"
  },
  "orig_nbformat": 4
 },
 "nbformat": 4,
 "nbformat_minor": 2
}
